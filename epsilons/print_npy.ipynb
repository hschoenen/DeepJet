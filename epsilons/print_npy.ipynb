{
 "cells": [
  {
   "cell_type": "code",
   "execution_count": 1,
   "id": "f5e3d86f-a0cf-4d5a-a2ee-6a546d28c2d4",
   "metadata": {},
   "outputs": [],
   "source": [
    "import numpy as np"
   ]
  },
  {
   "cell_type": "code",
   "execution_count": 4,
   "id": "9df63e9a-b14b-4b15-a61b-3db1e5904724",
   "metadata": {},
   "outputs": [],
   "source": [
    "path=''\n",
    "printlist=[\"global_epsilons_old\",\"global_epsilons\",\"global_standardized_epsilons\",\"global_ranges\"]\n",
    "#printlist=[\"cpf_epsilons_old\",\"cpf_epsilons\",\"cpf_standardized_epsilons\",\"cpf_ranges\"]\n",
    "#printlist=[\"npf_epsilons_old\",\"npf_epsilons\",\"npf_standardized_epsilons\",\"npf_ranges\"]\n",
    "#printlist=[\"vtx_epsilons_old\",\"vtx_epsilons\",\"vtx_standardized_epsilons\",\"vtx_ranges\"]\n",
    "\n",
    "#path='/net/scratch_cms3a/hschoenen/deepjet/results/fgsm-0_02/loss_values/'\n",
    "#printlist=['epoch_training_losses','epoch_validation_losses']"
   ]
  },
  {
   "cell_type": "code",
   "execution_count": 5,
   "id": "fcc2e338-2adb-403b-b6d8-403088aa8c21",
   "metadata": {},
   "outputs": [
    {
     "name": "stdout",
     "output_type": "stream",
     "text": [
      "global_epsilons_old\n",
      "[8.42606861e+02 2.44654651e+00 2.00000000e+01 1.10000000e+01\n",
      " 2.50000000e+00 2.20000000e+01 6.02880303e-01 1.53420486e+00\n",
      " 1.00000000e+00 3.86715792e-02 1.16891119e+01 7.25598227e-02\n",
      " 1.81956797e+01 9.50000000e+00 5.50000000e+00]\n",
      "global_epsilons\n",
      "[7.60120430e+02 2.39266221e+00 1.75000000e+01 1.00000000e+01\n",
      " 2.00000000e+00 1.95000000e+01 4.92823174e-01 1.32771148e+00\n",
      " 1.00000000e+00 2.57519535e-02 7.78074743e+00 4.69124312e-02\n",
      " 1.21450884e+01 8.50000000e+00 4.50000000e+00]\n",
      "global_standardized_epsilons\n",
      "[6.92614746e+01 6.23935461e-01 2.89666724e+00 2.12283635e+00\n",
      " 4.80717123e-01 4.12573576e+00 1.08582012e-01 1.59055945e-02\n",
      " 9.27547634e-01 9.35955264e-04 3.57133418e-01 1.92471512e-03\n",
      " 5.85300922e-01 1.57587111e+00 1.03156412e+00]\n",
      "global_ranges\n",
      "[[ 1.54449698e+01  1.53568583e+03]\n",
      " [-2.39101728e+00  2.39430714e+00]\n",
      " [ 1.00000000e+00  3.60000000e+01]\n",
      " [ 0.00000000e+00  2.00000000e+01]\n",
      " [ 0.00000000e+00  4.00000000e+00]\n",
      " [ 9.00000000e+00  4.80000000e+01]\n",
      " [ 0.00000000e+00  9.85646349e-01]\n",
      " [ 0.00000000e+00  2.65542295e+00]\n",
      " [ 0.00000000e+00  2.00000000e+00]\n",
      " [-1.49023449e-02  3.66015621e-02]\n",
      " [-2.80285925e+00  1.27586356e+01]\n",
      " [-2.99315444e-02  6.38933180e-02]\n",
      " [-5.31543049e+00  1.89747464e+01]\n",
      " [ 0.00000000e+00  1.70000000e+01]\n",
      " [ 0.00000000e+00  9.00000000e+00]]\n"
     ]
    }
   ],
   "source": [
    "\n",
    "for item in printlist:\n",
    "    print(item)\n",
    "    item_array = np.load(\"{}{}.npy\".format(path,item))\n",
    "    print(item_array)"
   ]
  },
  {
   "cell_type": "code",
   "execution_count": 12,
   "id": "3cb6ed8d-7606-4f98-b041-54301b036c81",
   "metadata": {},
   "outputs": [],
   "source": [
    "item_array.list().append(8)"
   ]
  },
  {
   "cell_type": "code",
   "execution_count": 19,
   "id": "c479e59c-1c4b-4c93-be64-8e8e97fe0fd5",
   "metadata": {},
   "outputs": [
    {
     "name": "stdout",
     "output_type": "stream",
     "text": [
      "[1.01279739 1.003299  ]\n",
      "[1.0127973929938376, 1.003298997508459]\n",
      "[1.0127973929938376, 1.003298997508459, 89]\n"
     ]
    }
   ],
   "source": [
    "print(item_array)\n",
    "a=item_array.tolist()\n",
    "print(a)\n",
    "a.append(89)\n",
    "print(a)"
   ]
  },
  {
   "cell_type": "code",
   "execution_count": null,
   "id": "d57296b2-0ca8-4fb4-a78a-bb53af02c596",
   "metadata": {},
   "outputs": [],
   "source": []
  }
 ],
 "metadata": {
  "kernelspec": {
   "display_name": "Python 3",
   "language": "python",
   "name": "python3"
  },
  "language_info": {
   "codemirror_mode": {
    "name": "ipython",
    "version": 3
   },
   "file_extension": ".py",
   "mimetype": "text/x-python",
   "name": "python",
   "nbconvert_exporter": "python",
   "pygments_lexer": "ipython3",
   "version": "3.9.13"
  }
 },
 "nbformat": 4,
 "nbformat_minor": 5
}
